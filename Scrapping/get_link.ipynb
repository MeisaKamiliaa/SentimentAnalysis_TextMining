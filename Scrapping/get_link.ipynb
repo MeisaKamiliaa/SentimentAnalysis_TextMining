{
 "cells": [
  {
   "cell_type": "markdown",
   "metadata": {},
   "source": [
    "# Get YouTube Links From The Query \"Coursera Review\""
   ]
  },
  {
   "cell_type": "markdown",
   "metadata": {},
   "source": [
    "This notebook is used to get video links from the query \"Coursera Review\""
   ]
  },
  {
   "cell_type": "markdown",
   "metadata": {},
   "source": [
    "## Import Important Libraries"
   ]
  },
  {
   "cell_type": "code",
   "execution_count": 1,
   "metadata": {},
   "outputs": [],
   "source": [
    "import time\n",
    "\n",
    "from selenium.webdriver import Chrome\n",
    "from selenium.webdriver.common.by import By\n",
    "from selenium.webdriver.common.keys import Keys\n",
    "from selenium.webdriver.support.ui import WebDriverWait\n",
    "from selenium.webdriver.support import expected_conditions as EC\n",
    "from selenium.webdriver.chrome.service import Service\n",
    "import pandas as pd"
   ]
  },
  {
   "cell_type": "markdown",
   "metadata": {},
   "source": [
    "## Define Empty Link List"
   ]
  },
  {
   "cell_type": "code",
   "execution_count": 2,
   "metadata": {},
   "outputs": [],
   "source": [
    "creator = []\n",
    "title = []\n",
    "link = []"
   ]
  },
  {
   "cell_type": "markdown",
   "metadata": {},
   "source": [
    "## Define Target Url and Services"
   ]
  },
  {
   "cell_type": "code",
   "execution_count": 3,
   "metadata": {},
   "outputs": [],
   "source": [
    "url= \"https://www.youtube.com/results?search_query=coursera+review\"\n",
    "service = Service(executable_path=r'C:\\Users\\steam\\OneDrive\\Desktop\\Coding Kuliah\\Python\\Text Mining\\.env\\chromedriver\\chromedriver.exe')\n",
    "timeout = 60 # 60 seconds of timeout\n",
    "long_sleep_time = 10\n",
    "short_sleep_time = 3"
   ]
  },
  {
   "cell_type": "markdown",
   "metadata": {},
   "source": [
    "## Scrap Links"
   ]
  },
  {
   "cell_type": "code",
   "execution_count": 4,
   "metadata": {},
   "outputs": [
    {
     "name": "stdout",
     "output_type": "stream",
     "text": [
      "Coursera Review: Our Experience and How it Works\n",
      "Coursera Review | My Thoughts After 5 Years and 40 Online Courses\n",
      "Coursera Review (2024) - Is Coursera Worth it? - My Honest Feedback After Using it for Several Years\n",
      "Top 5 Online Learning Platforms 2024 | Review of Coursera / SkillShare / Udemy / EdX / LinkedIn\n",
      "Coursera Review (The Best E-learning Site?)\n",
      "Palo Alto Networks Cybersecurity Professional Certificate Review | Coursera\n",
      "ONLY UNSPONSORED Review of the Google Cybersecurity Certificate From Coursera\n",
      "Coursera Review: Why Is It the Best Online Learning Platform?\n",
      "Coursera Plus 2023 Review 7000+ Online Courses #shortsvideo\n",
      "Coursera Review - Best Platform for Courses?\n",
      "Microsoft UX Design Professional Certificate Review - 2024 | Coursera Review\n",
      "Coursera certificate value in India | Get a job with Coursera certificate | Coursera Review 2022\n",
      "Google it Support Professional Certificate Review - 2024 (Coursera Review)\n",
      "Meta Marketing Analytics Professional Certificate on Coursera | Review\n",
      "Coursera Plus 2023 Review Unlimited Access to 7000+ Online Courses\n",
      "Meta Data Analyst Professional Certificate Review - 2024 | NEW on Coursera\n",
      "Microsoft Business Analyst Professional Certificate Review - 2024 (Coursera Review)\n",
      "Microsoft Power BI Data Analyst Professional Certificate - Review 2024 (Coursera Review)\n",
      "Andrew Ng - AI for Everyone - COURSERA Review\n",
      "AWS Cloud Technology Consultant Professional Certificate Review - 2024 (Coursera) - WORTH it?\n",
      "Math for Machine Learning by Imperial & Coursera: REVIEW\n",
      "Stanford Algorithms Specialization (Certificate) - Review 2024 (Coursera Review)\n",
      "IBM Full Stack Software Developer Professional Certificate - Review 2024 (Coursera Review)\n",
      "Machine Learning Specialization on Coursera | Review\n",
      "I Reviewed the Python For Everybody Specialization on Coursera by University of Michigan\n",
      "7 Keys for Prompt Engineering - Coursera Review\n"
     ]
    }
   ],
   "source": [
    "with Chrome(service=service) as driver:\n",
    "\n",
    "    wait = WebDriverWait(driver, timeout)\n",
    "    driver.get(url)\n",
    "\n",
    "    for _ in range(3): # Scroll n times\n",
    "        \n",
    "        # Scroll to the bottom of page\n",
    "        wait.until(EC.visibility_of_element_located((By.TAG_NAME, \"body\"))).send_keys(Keys.END)\n",
    "\n",
    "        # Wait for page to load using long sleep time\n",
    "        time.sleep(long_sleep_time)\n",
    "\n",
    "    for video in wait.until(EC.presence_of_all_elements_located((By.CSS_SELECTOR, '#dismissible'))):\n",
    "\n",
    "        video_title = video.find_element(By.CSS_SELECTOR, '#video-title')\n",
    "\n",
    "        if ('coursera' in video_title.text.lower() and 'review' in video_title.text.lower()):\n",
    "\n",
    "            # Get video creator\n",
    "            creator.append(video.find_element(By.CSS_SELECTOR, '#channel-thumbnail').get_property('href').replace('https://www.youtube.com/', ''))\n",
    "\n",
    "            # Get video title\n",
    "            title.append(video_title.text)\n",
    "\n",
    "            # Get YouTube link from href\n",
    "            link.append(video_title.get_attribute('href'))\n",
    "\n",
    "            print(video_title.text)"
   ]
  },
  {
   "cell_type": "markdown",
   "metadata": {},
   "source": [
    "The reason why dismissible is searched first because we want to find the informations within the same parent div."
   ]
  },
  {
   "cell_type": "markdown",
   "metadata": {},
   "source": [
    "## Save the data as dataframe"
   ]
  },
  {
   "cell_type": "code",
   "execution_count": 5,
   "metadata": {},
   "outputs": [],
   "source": [
    "df = pd.DataFrame({'creator': creator, 'title': title, 'link': link})"
   ]
  },
  {
   "cell_type": "markdown",
   "metadata": {},
   "source": [
    "## Remove missing values immediately"
   ]
  },
  {
   "cell_type": "code",
   "execution_count": 6,
   "metadata": {},
   "outputs": [],
   "source": [
    "df = df.replace('', pd.NA)\n",
    "df = df.dropna()"
   ]
  },
  {
   "cell_type": "markdown",
   "metadata": {},
   "source": [
    "## Save the data to tsv"
   ]
  },
  {
   "cell_type": "markdown",
   "metadata": {},
   "source": [
    "Since this is a text data, there are probably many usages of ',' in the data"
   ]
  },
  {
   "cell_type": "code",
   "execution_count": 7,
   "metadata": {},
   "outputs": [],
   "source": [
    "df.to_csv('../Data/YoutubeLinks.tsv', index=False, sep='\\t')"
   ]
  },
  {
   "cell_type": "code",
   "execution_count": null,
   "metadata": {},
   "outputs": [],
   "source": []
  }
 ],
 "metadata": {
  "kernelspec": {
   "display_name": "TextMining",
   "language": "python",
   "name": "python3"
  },
  "language_info": {
   "codemirror_mode": {
    "name": "ipython",
    "version": 3
   },
   "file_extension": ".py",
   "mimetype": "text/x-python",
   "name": "python",
   "nbconvert_exporter": "python",
   "pygments_lexer": "ipython3",
   "version": "3.11.1"
  }
 },
 "nbformat": 4,
 "nbformat_minor": 2
}
