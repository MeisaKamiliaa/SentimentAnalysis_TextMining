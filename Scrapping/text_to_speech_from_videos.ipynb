{
 "cells": [
  {
   "cell_type": "markdown",
   "metadata": {},
   "source": [
    "# Youtube Videos Speech-to-text"
   ]
  },
  {
   "cell_type": "markdown",
   "metadata": {},
   "source": [
    "## Define paths"
   ]
  },
  {
   "cell_type": "code",
   "execution_count": 1,
   "metadata": {},
   "outputs": [],
   "source": [
    "AUDIO_PATH = '../Data/Audio'"
   ]
  },
  {
   "cell_type": "markdown",
   "metadata": {},
   "source": [
    "## Import scraped links"
   ]
  },
  {
   "cell_type": "code",
   "execution_count": 2,
   "metadata": {},
   "outputs": [
    {
     "data": {
      "text/html": [
       "<div>\n",
       "<style scoped>\n",
       "    .dataframe tbody tr th:only-of-type {\n",
       "        vertical-align: middle;\n",
       "    }\n",
       "\n",
       "    .dataframe tbody tr th {\n",
       "        vertical-align: top;\n",
       "    }\n",
       "\n",
       "    .dataframe thead th {\n",
       "        text-align: right;\n",
       "    }\n",
       "</style>\n",
       "<table border=\"1\" class=\"dataframe\">\n",
       "  <thead>\n",
       "    <tr style=\"text-align: right;\">\n",
       "      <th></th>\n",
       "      <th>creator</th>\n",
       "      <th>title</th>\n",
       "      <th>link</th>\n",
       "    </tr>\n",
       "  </thead>\n",
       "  <tbody>\n",
       "    <tr>\n",
       "      <th>0</th>\n",
       "      <td>@gradehacker</td>\n",
       "      <td>Coursera Review: Our Experience and How it Works</td>\n",
       "      <td>https://www.youtube.com/watch?v=l5V2BaoYnWo&amp;pp...</td>\n",
       "    </tr>\n",
       "    <tr>\n",
       "      <th>1</th>\n",
       "      <td>@RichardWalls</td>\n",
       "      <td>Coursera Review | My Thoughts After 5 Years an...</td>\n",
       "      <td>https://www.youtube.com/watch?v=V79x7045Bp0&amp;pp...</td>\n",
       "    </tr>\n",
       "    <tr>\n",
       "      <th>2</th>\n",
       "      <td>@Daniel-Dann</td>\n",
       "      <td>Coursera Review (2024) - Is Coursera Worth it?...</td>\n",
       "      <td>https://www.youtube.com/watch?v=rnpzU7GBHlI&amp;pp...</td>\n",
       "    </tr>\n",
       "    <tr>\n",
       "      <th>3</th>\n",
       "      <td>@gradehacker</td>\n",
       "      <td>Top 5 Online Learning Platforms 2024 | Review ...</td>\n",
       "      <td>https://www.youtube.com/watch?v=wY5n3uGZ6Js&amp;pp...</td>\n",
       "    </tr>\n",
       "    <tr>\n",
       "      <th>4</th>\n",
       "      <td>@loistalagrand</td>\n",
       "      <td>Coursera Review (The Best E-learning Site?)</td>\n",
       "      <td>https://www.youtube.com/watch?v=LdQBrMWAU_w&amp;pp...</td>\n",
       "    </tr>\n",
       "    <tr>\n",
       "      <th>5</th>\n",
       "      <td>@MotasemHamdan</td>\n",
       "      <td>Palo Alto Networks Cybersecurity Professional ...</td>\n",
       "      <td>https://www.youtube.com/watch?v=Y6YNM-2P32Y&amp;pp...</td>\n",
       "    </tr>\n",
       "    <tr>\n",
       "      <th>6</th>\n",
       "      <td>@JonGoodCyber</td>\n",
       "      <td>ONLY UNSPONSORED Review of the Google Cybersec...</td>\n",
       "      <td>https://www.youtube.com/watch?v=lZ6p_djgNWI&amp;pp...</td>\n",
       "    </tr>\n",
       "    <tr>\n",
       "      <th>7</th>\n",
       "      <td>@vitaliylahno</td>\n",
       "      <td>Coursera Review: Why Is It the Best Online Lea...</td>\n",
       "      <td>https://www.youtube.com/watch?v=91w68nfT3Qw&amp;pp...</td>\n",
       "    </tr>\n",
       "    <tr>\n",
       "      <th>8</th>\n",
       "      <td>@Khosomaty</td>\n",
       "      <td>Coursera Plus 2023 Review 7000+ Online Courses...</td>\n",
       "      <td>https://www.youtube.com/shorts/Lds9UVRlzlQ</td>\n",
       "    </tr>\n",
       "    <tr>\n",
       "      <th>9</th>\n",
       "      <td>@thesocialguide7659</td>\n",
       "      <td>Coursera Review - Best Platform for Courses?</td>\n",
       "      <td>https://www.youtube.com/watch?v=QXb9gNPLB4A&amp;pp...</td>\n",
       "    </tr>\n",
       "    <tr>\n",
       "      <th>10</th>\n",
       "      <td>@Daniel-Dann</td>\n",
       "      <td>Microsoft UX Design Professional Certificate R...</td>\n",
       "      <td>https://www.youtube.com/watch?v=6u85WIhZ8iE&amp;pp...</td>\n",
       "    </tr>\n",
       "    <tr>\n",
       "      <th>11</th>\n",
       "      <td>@TheGuidingBoy</td>\n",
       "      <td>Coursera certificate value in India | Get a jo...</td>\n",
       "      <td>https://www.youtube.com/watch?v=6Wh0GW03wCY&amp;pp...</td>\n",
       "    </tr>\n",
       "    <tr>\n",
       "      <th>12</th>\n",
       "      <td>@Daniel-Dann</td>\n",
       "      <td>Google it Support Professional Certificate Rev...</td>\n",
       "      <td>https://www.youtube.com/watch?v=SE1B1WQXaa4&amp;pp...</td>\n",
       "    </tr>\n",
       "    <tr>\n",
       "      <th>13</th>\n",
       "      <td>@AlexTheAnalyst</td>\n",
       "      <td>Meta Marketing Analytics Professional Certific...</td>\n",
       "      <td>https://www.youtube.com/watch?v=_QvQxm4dptI&amp;pp...</td>\n",
       "    </tr>\n",
       "    <tr>\n",
       "      <th>14</th>\n",
       "      <td>@Khosomaty</td>\n",
       "      <td>Coursera Plus 2023 Review Unlimited Access to ...</td>\n",
       "      <td>https://www.youtube.com/watch?v=kqrntgfYSRk&amp;pp...</td>\n",
       "    </tr>\n",
       "    <tr>\n",
       "      <th>15</th>\n",
       "      <td>@Daniel-Dann</td>\n",
       "      <td>Meta Data Analyst Professional Certificate Rev...</td>\n",
       "      <td>https://www.youtube.com/watch?v=isbTv2qSn_0&amp;pp...</td>\n",
       "    </tr>\n",
       "    <tr>\n",
       "      <th>16</th>\n",
       "      <td>@Daniel-Dann</td>\n",
       "      <td>Microsoft Business Analyst Professional Certif...</td>\n",
       "      <td>https://www.youtube.com/watch?v=aNee0nBMjjM&amp;pp...</td>\n",
       "    </tr>\n",
       "    <tr>\n",
       "      <th>17</th>\n",
       "      <td>@Daniel-Dann</td>\n",
       "      <td>Microsoft Power BI Data Analyst Professional C...</td>\n",
       "      <td>https://www.youtube.com/watch?v=pDjPCj_snKw&amp;pp...</td>\n",
       "    </tr>\n",
       "    <tr>\n",
       "      <th>18</th>\n",
       "      <td>@AIMatej</td>\n",
       "      <td>Andrew Ng - AI for Everyone - COURSERA Review</td>\n",
       "      <td>https://www.youtube.com/watch?v=hqapTQVM4yQ&amp;pp...</td>\n",
       "    </tr>\n",
       "    <tr>\n",
       "      <th>19</th>\n",
       "      <td>@Daniel-Dann</td>\n",
       "      <td>AWS Cloud Technology Consultant Professional C...</td>\n",
       "      <td>https://www.youtube.com/watch?v=FfXzCWX9rSA&amp;pp...</td>\n",
       "    </tr>\n",
       "    <tr>\n",
       "      <th>20</th>\n",
       "      <td>@gilesmcmullen</td>\n",
       "      <td>Math for Machine Learning by Imperial &amp; Course...</td>\n",
       "      <td>https://www.youtube.com/watch?v=loLEqvaQ-Wc&amp;pp...</td>\n",
       "    </tr>\n",
       "    <tr>\n",
       "      <th>21</th>\n",
       "      <td>@Daniel-Dann</td>\n",
       "      <td>Stanford Algorithms Specialization (Certificat...</td>\n",
       "      <td>https://www.youtube.com/watch?v=tR2ZIvvvaT4&amp;pp...</td>\n",
       "    </tr>\n",
       "    <tr>\n",
       "      <th>22</th>\n",
       "      <td>@Daniel-Dann</td>\n",
       "      <td>IBM Full Stack Software Developer Professional...</td>\n",
       "      <td>https://www.youtube.com/watch?v=WzrkjsG9Ai0&amp;pp...</td>\n",
       "    </tr>\n",
       "    <tr>\n",
       "      <th>23</th>\n",
       "      <td>@AlexTheAnalyst</td>\n",
       "      <td>Machine Learning Specialization on Coursera | ...</td>\n",
       "      <td>https://www.youtube.com/watch?v=4nsdARJGzJ0&amp;pp...</td>\n",
       "    </tr>\n",
       "    <tr>\n",
       "      <th>24</th>\n",
       "      <td>@GregHogg</td>\n",
       "      <td>I Reviewed the Python For Everybody Specializa...</td>\n",
       "      <td>https://www.youtube.com/watch?v=8HuTYFR4VUM&amp;pp...</td>\n",
       "    </tr>\n",
       "    <tr>\n",
       "      <th>25</th>\n",
       "      <td>@AIMatej</td>\n",
       "      <td>7 Keys for Prompt Engineering - Coursera Review</td>\n",
       "      <td>https://www.youtube.com/watch?v=XEAYRj9aOK4&amp;pp...</td>\n",
       "    </tr>\n",
       "  </tbody>\n",
       "</table>\n",
       "</div>"
      ],
      "text/plain": [
       "                creator                                              title  \\\n",
       "0          @gradehacker   Coursera Review: Our Experience and How it Works   \n",
       "1         @RichardWalls  Coursera Review | My Thoughts After 5 Years an...   \n",
       "2          @Daniel-Dann  Coursera Review (2024) - Is Coursera Worth it?...   \n",
       "3          @gradehacker  Top 5 Online Learning Platforms 2024 | Review ...   \n",
       "4        @loistalagrand        Coursera Review (The Best E-learning Site?)   \n",
       "5        @MotasemHamdan  Palo Alto Networks Cybersecurity Professional ...   \n",
       "6         @JonGoodCyber  ONLY UNSPONSORED Review of the Google Cybersec...   \n",
       "7         @vitaliylahno  Coursera Review: Why Is It the Best Online Lea...   \n",
       "8            @Khosomaty  Coursera Plus 2023 Review 7000+ Online Courses...   \n",
       "9   @thesocialguide7659       Coursera Review - Best Platform for Courses?   \n",
       "10         @Daniel-Dann  Microsoft UX Design Professional Certificate R...   \n",
       "11       @TheGuidingBoy  Coursera certificate value in India | Get a jo...   \n",
       "12         @Daniel-Dann  Google it Support Professional Certificate Rev...   \n",
       "13      @AlexTheAnalyst  Meta Marketing Analytics Professional Certific...   \n",
       "14           @Khosomaty  Coursera Plus 2023 Review Unlimited Access to ...   \n",
       "15         @Daniel-Dann  Meta Data Analyst Professional Certificate Rev...   \n",
       "16         @Daniel-Dann  Microsoft Business Analyst Professional Certif...   \n",
       "17         @Daniel-Dann  Microsoft Power BI Data Analyst Professional C...   \n",
       "18             @AIMatej      Andrew Ng - AI for Everyone - COURSERA Review   \n",
       "19         @Daniel-Dann  AWS Cloud Technology Consultant Professional C...   \n",
       "20       @gilesmcmullen  Math for Machine Learning by Imperial & Course...   \n",
       "21         @Daniel-Dann  Stanford Algorithms Specialization (Certificat...   \n",
       "22         @Daniel-Dann  IBM Full Stack Software Developer Professional...   \n",
       "23      @AlexTheAnalyst  Machine Learning Specialization on Coursera | ...   \n",
       "24            @GregHogg  I Reviewed the Python For Everybody Specializa...   \n",
       "25             @AIMatej    7 Keys for Prompt Engineering - Coursera Review   \n",
       "\n",
       "                                                 link  \n",
       "0   https://www.youtube.com/watch?v=l5V2BaoYnWo&pp...  \n",
       "1   https://www.youtube.com/watch?v=V79x7045Bp0&pp...  \n",
       "2   https://www.youtube.com/watch?v=rnpzU7GBHlI&pp...  \n",
       "3   https://www.youtube.com/watch?v=wY5n3uGZ6Js&pp...  \n",
       "4   https://www.youtube.com/watch?v=LdQBrMWAU_w&pp...  \n",
       "5   https://www.youtube.com/watch?v=Y6YNM-2P32Y&pp...  \n",
       "6   https://www.youtube.com/watch?v=lZ6p_djgNWI&pp...  \n",
       "7   https://www.youtube.com/watch?v=91w68nfT3Qw&pp...  \n",
       "8          https://www.youtube.com/shorts/Lds9UVRlzlQ  \n",
       "9   https://www.youtube.com/watch?v=QXb9gNPLB4A&pp...  \n",
       "10  https://www.youtube.com/watch?v=6u85WIhZ8iE&pp...  \n",
       "11  https://www.youtube.com/watch?v=6Wh0GW03wCY&pp...  \n",
       "12  https://www.youtube.com/watch?v=SE1B1WQXaa4&pp...  \n",
       "13  https://www.youtube.com/watch?v=_QvQxm4dptI&pp...  \n",
       "14  https://www.youtube.com/watch?v=kqrntgfYSRk&pp...  \n",
       "15  https://www.youtube.com/watch?v=isbTv2qSn_0&pp...  \n",
       "16  https://www.youtube.com/watch?v=aNee0nBMjjM&pp...  \n",
       "17  https://www.youtube.com/watch?v=pDjPCj_snKw&pp...  \n",
       "18  https://www.youtube.com/watch?v=hqapTQVM4yQ&pp...  \n",
       "19  https://www.youtube.com/watch?v=FfXzCWX9rSA&pp...  \n",
       "20  https://www.youtube.com/watch?v=loLEqvaQ-Wc&pp...  \n",
       "21  https://www.youtube.com/watch?v=tR2ZIvvvaT4&pp...  \n",
       "22  https://www.youtube.com/watch?v=WzrkjsG9Ai0&pp...  \n",
       "23  https://www.youtube.com/watch?v=4nsdARJGzJ0&pp...  \n",
       "24  https://www.youtube.com/watch?v=8HuTYFR4VUM&pp...  \n",
       "25  https://www.youtube.com/watch?v=XEAYRj9aOK4&pp...  "
      ]
     },
     "execution_count": 2,
     "metadata": {},
     "output_type": "execute_result"
    }
   ],
   "source": [
    "import pandas as pd\n",
    "\n",
    "links = pd.read_csv('../Data/YoutubeLinks.tsv', sep='\\t')\n",
    "links"
   ]
  },
  {
   "cell_type": "markdown",
   "metadata": {},
   "source": [
    "## Cleanse the video titles"
   ]
  },
  {
   "cell_type": "markdown",
   "metadata": {},
   "source": [
    "To prevent inconsistencies, we need to remove special characters from every title"
   ]
  },
  {
   "cell_type": "code",
   "execution_count": 3,
   "metadata": {},
   "outputs": [],
   "source": [
    "import re\n",
    "\n",
    "titles_list = []\n",
    "\n",
    "for i in range(len(links)):\n",
    "    titles_list.append(re.sub(r'[^a-zA-Z0-9\\s]', '', links['title'][i]))"
   ]
  },
  {
   "cell_type": "markdown",
   "metadata": {},
   "source": [
    "## Download audio data"
   ]
  },
  {
   "cell_type": "code",
   "execution_count": 4,
   "metadata": {},
   "outputs": [
    {
     "name": "stdout",
     "output_type": "stream",
     "text": [
      "Coursera Review: Our Experience and How it Works\n",
      "Coursera Review | My Thoughts After 5 Years and 40 Online Courses\n",
      "Coursera Review (2024) - Is Coursera Worth it? - My Honest Feedback After Using it for Several Years\n",
      "Top 5 Online Learning Platforms 2024 | Review of Coursera / SkillShare / Udemy / EdX / LinkedIn\n",
      "Coursera Review (The Best E-learning Site?)\n",
      "Palo Alto Networks Cybersecurity Professional Certificate Review | Coursera\n",
      "ONLY UNSPONSORED Review of the Google Cybersecurity Certificate From Coursera\n",
      "Coursera Review: Why Is It the Best Online Learning Platform?\n",
      "Coursera Plus 2023 Review 7000+ Online Courses #shortsvideo\n",
      "Coursera Review - Best Platform for Courses?\n",
      "Microsoft UX Design Professional Certificate Review - 2024 | Coursera Review\n",
      "Coursera certificate value in India | Get a job with Coursera certificate | Coursera Review 2022\n",
      "Google it Support Professional Certificate Review - 2024 (Coursera Review)\n",
      "Meta Marketing Analytics Professional Certificate on Coursera | Review\n",
      "Coursera Plus 2023 Review Unlimited Access to 7000+ Online Courses\n",
      "Meta Data Analyst Professional Certificate Review - 2024 | NEW on Coursera\n",
      "Microsoft Business Analyst Professional Certificate Review - 2024 (Coursera Review)\n",
      "Microsoft Power BI Data Analyst Professional Certificate - Review 2024 (Coursera Review)\n",
      "Andrew Ng - AI for Everyone - COURSERA Review\n",
      "AWS Cloud Technology Consultant Professional Certificate Review - 2024 (Coursera) - WORTH it?\n",
      "Math for Machine Learning by Imperial & Coursera: REVIEW\n",
      "Stanford Algorithms Specialization (Certificate) - Review 2024 (Coursera Review)\n",
      "IBM Full Stack Software Developer Professional Certificate - Review 2024 (Coursera Review)\n",
      "Machine Learning Specialization on Coursera | Review\n",
      "I Reviewed the Python For Everybody Specialization on Coursera by University of Michigan\n",
      "7 Keys for Prompt Engineering - Coursera Review\n"
     ]
    }
   ],
   "source": [
    "# from pytube import YouTube\n",
    "from pytubefix import YouTube\n",
    "\n",
    "for i in range(len(links)):\n",
    "    yt = YouTube(links['link'][i])\n",
    "    print(links['title'][i])\n",
    "    yt.streams.filter(only_audio=True).order_by('mime_type').desc().first().download(output_path=AUDIO_PATH, filename=f'{titles_list[i]}', mp3=True)"
   ]
  },
  {
   "cell_type": "markdown",
   "metadata": {},
   "source": [
    "## Convert mp3 to wav"
   ]
  },
  {
   "cell_type": "markdown",
   "metadata": {},
   "source": [
    "### Using pydub"
   ]
  },
  {
   "cell_type": "code",
   "execution_count": 5,
   "metadata": {
    "colab": {
     "base_uri": "https://localhost:8080/"
    },
    "id": "HIq-Ea7k_ssK",
    "outputId": "d247bd84-ccfa-4a97-818e-fc9219af45c0"
   },
   "outputs": [],
   "source": [
    "# from pydub import AudioSegment\n",
    "# try:\n",
    "#     sound = AudioSegment.from_mp3(f\"{AUDIO_PATH}/Coursera Review  My Thoughts After 5 Years and 40 Online Courses.mp3\")\n",
    "#     sound.export(f\"{AUDIO_PATH}/Coursera Review  My Thoughts After 5 Years and 40 Online Courses.wav\", format=\"wav\")\n",
    "\n",
    "# except Exception as e:\n",
    "#     print(e)"
   ]
  },
  {
   "cell_type": "markdown",
   "metadata": {},
   "source": [
    "### Using ffmpeg"
   ]
  },
  {
   "cell_type": "code",
   "execution_count": 6,
   "metadata": {},
   "outputs": [],
   "source": [
    "import subprocess\n",
    "\n",
    "for i in range(len(links)):\n",
    "    subprocess.call(['ffmpeg', '-i', f'{AUDIO_PATH}/{titles_list[i]}.mp3', f'{AUDIO_PATH}/{titles_list[i]}.wav'])"
   ]
  },
  {
   "cell_type": "markdown",
   "metadata": {},
   "source": [
    "## Speech to text for summarization"
   ]
  },
  {
   "cell_type": "markdown",
   "metadata": {},
   "source": [
    "### Import needed libraries and create recognizer class"
   ]
  },
  {
   "cell_type": "code",
   "execution_count": 7,
   "metadata": {
    "id": "fOIUwkTa-5Vq"
   },
   "outputs": [],
   "source": [
    "import speech_recognition as sr\n",
    "from mutagen.wave import WAVE\n",
    "import numpy as np\n",
    "\n",
    "recognizer = sr.Recognizer()"
   ]
  },
  {
   "cell_type": "markdown",
   "metadata": {},
   "source": [
    "### Create empty raw text list"
   ]
  },
  {
   "cell_type": "code",
   "execution_count": 8,
   "metadata": {},
   "outputs": [],
   "source": [
    "raw_text = []"
   ]
  },
  {
   "cell_type": "markdown",
   "metadata": {},
   "source": [
    "### Do speech-to-text"
   ]
  },
  {
   "cell_type": "code",
   "execution_count": 9,
   "metadata": {
    "colab": {
     "base_uri": "https://localhost:8080/"
    },
    "id": "1GIKyHqZ_E46",
    "outputId": "2d4b40e5-8e74-4d42-a4d6-98fd71930d41"
   },
   "outputs": [
    {
     "name": "stdout",
     "output_type": "stream",
     "text": [
      "Google Speech Recognition could not understand audio at 2\n",
      "Google Speech Recognition could not understand audio at 11\n",
      "Google Speech Recognition could not understand audio at 12\n",
      "Google Speech Recognition could not understand audio at 13\n",
      "Google Speech Recognition could not understand audio at 14\n",
      "Google Speech Recognition could not understand audio at 19\n",
      "Google Speech Recognition could not understand audio at 21\n"
     ]
    }
   ],
   "source": [
    "drop_index = []\n",
    "\n",
    "for i in range(len(links)):\n",
    "    audio_title = titles_list[i]\n",
    "    audio_file = sr.AudioFile(f'{AUDIO_PATH}/{audio_title}.wav')\n",
    "    audio_chunk_size = int(np.ceil(WAVE(f'{AUDIO_PATH}/{audio_title}.wav').info.length / 30)) # To split the audio into chunks with 30 seconds interval\n",
    "    text = ''\n",
    "    with audio_file as source:\n",
    "\n",
    "        try:\n",
    "            for chunk in range(audio_chunk_size):\n",
    "                audio = recognizer.record(source, duration=30)\n",
    "                text += recognizer.recognize_google(audio)\n",
    "            raw_text.append(text)\n",
    "\n",
    "        except sr.UnknownValueError:\n",
    "            print(f\"Google Speech Recognition could not understand audio at {i}\")\n",
    "            drop_index.append(i)\n",
    "        \n",
    "        except sr.RequestError as e:\n",
    "            print(\"Could not request results from Google Speech Recognition service; {0}\".format(e))\n",
    "\n",
    "        except TimeoutError:\n",
    "            print(f\"Timeout exceeded at {i}\")\n",
    "            drop_index.append(i)"
   ]
  },
  {
   "cell_type": "code",
   "execution_count": 10,
   "metadata": {},
   "outputs": [],
   "source": [
    "raw_data = pd.DataFrame({'title': titles_list})\n",
    "raw_data = raw_data.drop(drop_index)\n",
    "raw_data['raw_text'] = raw_text"
   ]
  },
  {
   "cell_type": "code",
   "execution_count": 12,
   "metadata": {},
   "outputs": [],
   "source": [
    "raw_data.to_csv('../Data/rawtext.tsv', index=False, sep='\\t')"
   ]
  },
  {
   "cell_type": "code",
   "execution_count": null,
   "metadata": {},
   "outputs": [],
   "source": []
  }
 ],
 "metadata": {
  "colab": {
   "provenance": []
  },
  "kernelspec": {
   "display_name": "TextMining",
   "language": "python",
   "name": "python3"
  },
  "language_info": {
   "codemirror_mode": {
    "name": "ipython",
    "version": 3
   },
   "file_extension": ".py",
   "mimetype": "text/x-python",
   "name": "python",
   "nbconvert_exporter": "python",
   "pygments_lexer": "ipython3",
   "version": "3.11.1"
  }
 },
 "nbformat": 4,
 "nbformat_minor": 0
}
